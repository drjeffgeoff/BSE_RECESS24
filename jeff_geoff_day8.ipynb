{
 "cells": [
  {
   "cell_type": "code",
   "execution_count": null,
   "metadata": {},
   "outputs": [
    {
     "ename": "",
     "evalue": "",
     "output_type": "error",
     "traceback": [
      "\u001b[1;31mRunning cells with 'Python 3.12.3' requires the ipykernel package.\n",
      "\u001b[1;31mRun the following command to install 'ipykernel' into the Python environment. \n",
      "\u001b[1;31mCommand: '/bin/python3.12 -m pip install ipykernel -U --user --force-reinstall'"
     ]
    }
   ],
   "source": [
    "# Data Science with Python\n",
    "\n",
    "# Application of data science\n",
    "\n",
    "\n",
    "#Steps\n",
    "# Steps1: Import necessary libraries\n",
    "# Step2: Loading the dataset\n",
    "# Step3: Data cleaning and preprocessing\n",
    "# Step4: EDA Expolatory Data Analysis\n",
    "# Distribution students with Age and whether they have girlfriend or boyfriend\n",
    "# Gender who have boyfriend and girlfriend\n",
    "# Do you eat, age, gender and gf and bf\n",
    "# Living allowance and gf and bf\n",
    "# Those with bf and bf if the have siblings, \n",
    "# the no meals taken and the living allowance\n",
    "# Careers and bf or gf\n",
    "# Correction Heatmaps, correlation matriix and plot the heatmaps\n",
    "\n",
    "\n",
    "# Decision making/ insigths of the data, data analysis conclusions\n",
    "\n",
    "#1: Age and gf or bf\n",
    "#2: Gender and gf or bf\n",
    "#3: Correction analysis"
   ]
  },
  {
   "cell_type": "code",
   "execution_count": null,
   "metadata": {},
   "outputs": [],
   "source": [
    "# Data cleaning\n",
    "# Check for missing values\n",
    "print(df.isnull().sum())\n",
    "\n",
    "# Drop rows with missing values\n",
    "df = df.dropna()\n",
    "\n",
    "# Check for duplicates\n",
    "print(df.duplicated().sum())\n",
    "\n",
    "# Drop duplicates\n",
    "df = df.drop_duplicates()\n"
   ]
  },
  {
   "cell_type": "code",
   "execution_count": null,
   "metadata": {},
   "outputs": [],
   "source": [
    "# Remove comma (\",\") and convert to float\n",
    "df['column_name'] = df['column_name'].str.replace(',','').astype(float)\n",
    "\n",
    "# Fill missing values for 'Age' with the median age\n",
    "df['living_allowance'].fillna(df['living_allowance'].median(), inplace=True)"
   ]
  }
 ],
 "metadata": {
  "kernelspec": {
   "display_name": "Python 3",
   "language": "python",
   "name": "python3"
  },
  "language_info": {
   "name": "python",
   "version": "3.12.4"
  }
 },
 "nbformat": 4,
 "nbformat_minor": 2
}
